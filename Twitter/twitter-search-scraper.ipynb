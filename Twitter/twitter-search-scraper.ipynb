{
 "cells": [
  {
   "cell_type": "markdown",
   "metadata": {},
   "source": [
    "# Tweet Scraper"
   ]
  },
  {
   "cell_type": "code",
   "execution_count": 1,
   "metadata": {},
   "outputs": [],
   "source": [
    "import tweepy\n",
    "import pandas as pd"
   ]
  },
  {
   "cell_type": "code",
   "execution_count": 2,
   "metadata": {},
   "outputs": [
    {
     "name": "stdout",
     "output_type": "stream",
     "text": [
      "Authentication OK\n"
     ]
    }
   ],
   "source": [
    "# Comprobamos la conexión.\n",
    "auth = tweepy.OAuthHandler(\"X4Y7Y04awoRF1MCyQa7GihgnP\", \n",
    "    \"1Df4QFiMAxSmDNx2mpFv1DSLx3CZgHwQWDC4eO3QG8T6vCXv4E\")\n",
    "auth.set_access_token(\"375970946-vtiEnm2V2cv7GehiKclmzglcOXODsiYk4NHAH6Ty\", \n",
    "    \"4igL12gmSDv9hxmN9Uk87xKaMEbVUYLummFetGrLLHBT2\")\n",
    "\n",
    "api = tweepy.API(auth)\n",
    "\n",
    "try:\n",
    "    api.verify_credentials()\n",
    "    print(\"Authentication OK\")\n",
    "except:\n",
    "    print(\"Error during authentication\")"
   ]
  },
  {
   "cell_type": "code",
   "execution_count": 3,
   "metadata": {
    "scrolled": true
   },
   "outputs": [],
   "source": [
    "# Realizamos la búsqueda y guardamos en una serie de listas.\n",
    "test = []\n",
    "tweets = []\n",
    "username = []\n",
    "screen_name = []\n",
    "date = []\n",
    "hashtags = []\n",
    "tweet_url = []\n",
    "results = {}\n",
    "for tweet in api.search(q=\"Bogota\", lang=\"es\", rpp=500, count=100):\n",
    "    tmp = tweet.entities['hashtags']\n",
    "    test.append(tweet)\n",
    "    tweets.append(tweet.text)\n",
    "    username.append(tweet.user.name)\n",
    "    screen_name.append('@'+tweet.user.screen_name)\n",
    "    date.append(tweet.created_at)\n",
    "    hashtags.append(tweet.entities['hashtags'])\n",
    "    #tweet_url.append(tweet.urls['url'])\n",
    "    \n",
    "# Creamos un dataframe con la busqueda realizada.\n",
    "results = pd.DataFrame({'username':username, 'screen_name':screen_name, 'date':date, 'tweet':tweets, 'hashtags': hashtags})"
   ]
  },
  {
   "cell_type": "code",
   "execution_count": 7,
   "metadata": {},
   "outputs": [],
   "source": [
    "# Linux\n",
    "results.to_csv('/home/oscar-dev/Platzimaster/Week10/TwitterSearchScraper/results.csv')\n",
    "# Windowsb\n",
    "# results.to_excel('D:\\\\Projects\\\\tweetsScraper\\\\results.xlsx')"
   ]
  },
  {
   "cell_type": "code",
   "execution_count": 5,
   "metadata": {},
   "outputs": [
    {
     "data": {
      "text/plain": [
       "Status(_api=<tweepy.api.API object at 0x7fd6ac0f5810>, _json={'created_at': 'Sat Sep 12 00:48:36 +0000 2020', 'id': 1304582648480792576, 'id_str': '1304582648480792576', 'text': 'RT @RevistaSemana: “No va a haber una sola marcha pacífica en Bogotá, no existe esa posibilidad. Que Claudia López las prohiba todas”. Esta…', 'truncated': False, 'entities': {'hashtags': [], 'symbols': [], 'user_mentions': [{'screen_name': 'RevistaSemana', 'name': 'Revista Semana', 'id': 18079284, 'id_str': '18079284', 'indices': [3, 17]}], 'urls': []}, 'metadata': {'iso_language_code': 'es', 'result_type': 'recent'}, 'source': '<a href=\"http://twitter.com/download/android\" rel=\"nofollow\">Twitter for Android</a>', 'in_reply_to_status_id': None, 'in_reply_to_status_id_str': None, 'in_reply_to_user_id': None, 'in_reply_to_user_id_str': None, 'in_reply_to_screen_name': None, 'user': {'id': 597363568, 'id_str': '597363568', 'name': 'piero martinez', 'screen_name': 'pierom1228', 'location': 'Bogota D.C.\\n', 'description': 'Benditos son los que confían en el\\xa0Señor y han hecho que el\\xa0Señor\\xa0sea su esperanza y confianza.  Jeremías 17:7 NTV - Cristiano-Derecha', 'url': None, 'entities': {'description': {'urls': []}}, 'protected': False, 'followers_count': 2307, 'friends_count': 2935, 'listed_count': 12, 'created_at': 'Sat Jun 02 12:18:12 +0000 2012', 'favourites_count': 8761, 'utc_offset': None, 'time_zone': None, 'geo_enabled': True, 'verified': False, 'statuses_count': 140168, 'lang': None, 'contributors_enabled': False, 'is_translator': False, 'is_translation_enabled': False, 'profile_background_color': 'C0DEED', 'profile_background_image_url': 'http://abs.twimg.com/images/themes/theme1/bg.png', 'profile_background_image_url_https': 'https://abs.twimg.com/images/themes/theme1/bg.png', 'profile_background_tile': False, 'profile_image_url': 'http://pbs.twimg.com/profile_images/962882686619660288/d3slvFlU_normal.jpg', 'profile_image_url_https': 'https://pbs.twimg.com/profile_images/962882686619660288/d3slvFlU_normal.jpg', 'profile_banner_url': 'https://pbs.twimg.com/profile_banners/597363568/1474741932', 'profile_link_color': '1DA1F2', 'profile_sidebar_border_color': 'C0DEED', 'profile_sidebar_fill_color': 'DDEEF6', 'profile_text_color': '333333', 'profile_use_background_image': True, 'has_extended_profile': False, 'default_profile': True, 'default_profile_image': False, 'following': False, 'follow_request_sent': False, 'notifications': False, 'translator_type': 'none'}, 'geo': None, 'coordinates': None, 'place': None, 'contributors': None, 'retweeted_status': {'created_at': 'Fri Sep 11 22:21:54 +0000 2020', 'id': 1304545732419039236, 'id_str': '1304545732419039236', 'text': '“No va a haber una sola marcha pacífica en Bogotá, no existe esa posibilidad. Que Claudia López las prohiba todas”.… https://t.co/NfFQCcVlC9', 'truncated': True, 'entities': {'hashtags': [], 'symbols': [], 'user_mentions': [], 'urls': [{'url': 'https://t.co/NfFQCcVlC9', 'expanded_url': 'https://twitter.com/i/web/status/1304545732419039236', 'display_url': 'twitter.com/i/web/status/1…', 'indices': [117, 140]}]}, 'metadata': {'iso_language_code': 'es', 'result_type': 'recent'}, 'source': '<a href=\"https://studio.twitter.com\" rel=\"nofollow\">Twitter Media Studio</a>', 'in_reply_to_status_id': None, 'in_reply_to_status_id_str': None, 'in_reply_to_user_id': None, 'in_reply_to_user_id_str': None, 'in_reply_to_screen_name': None, 'user': {'id': 18079284, 'id_str': '18079284', 'name': 'Revista Semana', 'screen_name': 'RevistaSemana', 'location': 'Colombia', 'description': 'Periodismo con carácter.', 'url': 'https://t.co/8yYNFZ7Uif', 'entities': {'url': {'urls': [{'url': 'https://t.co/8yYNFZ7Uif', 'expanded_url': 'http://Semana.com', 'display_url': 'Semana.com', 'indices': [0, 23]}]}, 'description': {'urls': []}}, 'protected': False, 'followers_count': 4548855, 'friends_count': 56, 'listed_count': 10632, 'created_at': 'Fri Dec 12 16:25:25 +0000 2008', 'favourites_count': 2545, 'utc_offset': None, 'time_zone': None, 'geo_enabled': False, 'verified': True, 'statuses_count': 258060, 'lang': None, 'contributors_enabled': False, 'is_translator': False, 'is_translation_enabled': False, 'profile_background_color': 'FFFFFF', 'profile_background_image_url': 'http://abs.twimg.com/images/themes/theme1/bg.png', 'profile_background_image_url_https': 'https://abs.twimg.com/images/themes/theme1/bg.png', 'profile_background_tile': False, 'profile_image_url': 'http://pbs.twimg.com/profile_images/1229471444394029061/AUEHUy1y_normal.jpg', 'profile_image_url_https': 'https://pbs.twimg.com/profile_images/1229471444394029061/AUEHUy1y_normal.jpg', 'profile_banner_url': 'https://pbs.twimg.com/profile_banners/18079284/1599832913', 'profile_link_color': 'C21818', 'profile_sidebar_border_color': 'FFFFFF', 'profile_sidebar_fill_color': 'CCD2D4', 'profile_text_color': '333333', 'profile_use_background_image': True, 'has_extended_profile': False, 'default_profile': False, 'default_profile_image': False, 'following': False, 'follow_request_sent': False, 'notifications': False, 'translator_type': 'regular'}, 'geo': None, 'coordinates': None, 'place': None, 'contributors': None, 'is_quote_status': False, 'retweet_count': 403, 'favorite_count': 784, 'favorited': False, 'retweeted': False, 'possibly_sensitive': False, 'lang': 'es'}, 'is_quote_status': False, 'retweet_count': 403, 'favorite_count': 0, 'favorited': False, 'retweeted': False, 'lang': 'es'}, created_at=datetime.datetime(2020, 9, 12, 0, 48, 36), id=1304582648480792576, id_str='1304582648480792576', text='RT @RevistaSemana: “No va a haber una sola marcha pacífica en Bogotá, no existe esa posibilidad. Que Claudia López las prohiba todas”. Esta…', truncated=False, entities={'hashtags': [], 'symbols': [], 'user_mentions': [{'screen_name': 'RevistaSemana', 'name': 'Revista Semana', 'id': 18079284, 'id_str': '18079284', 'indices': [3, 17]}], 'urls': []}, metadata={'iso_language_code': 'es', 'result_type': 'recent'}, source='Twitter for Android', source_url='http://twitter.com/download/android', in_reply_to_status_id=None, in_reply_to_status_id_str=None, in_reply_to_user_id=None, in_reply_to_user_id_str=None, in_reply_to_screen_name=None, author=User(_api=<tweepy.api.API object at 0x7fd6ac0f5810>, _json={'id': 597363568, 'id_str': '597363568', 'name': 'piero martinez', 'screen_name': 'pierom1228', 'location': 'Bogota D.C.\\n', 'description': 'Benditos son los que confían en el\\xa0Señor y han hecho que el\\xa0Señor\\xa0sea su esperanza y confianza.  Jeremías 17:7 NTV - Cristiano-Derecha', 'url': None, 'entities': {'description': {'urls': []}}, 'protected': False, 'followers_count': 2307, 'friends_count': 2935, 'listed_count': 12, 'created_at': 'Sat Jun 02 12:18:12 +0000 2012', 'favourites_count': 8761, 'utc_offset': None, 'time_zone': None, 'geo_enabled': True, 'verified': False, 'statuses_count': 140168, 'lang': None, 'contributors_enabled': False, 'is_translator': False, 'is_translation_enabled': False, 'profile_background_color': 'C0DEED', 'profile_background_image_url': 'http://abs.twimg.com/images/themes/theme1/bg.png', 'profile_background_image_url_https': 'https://abs.twimg.com/images/themes/theme1/bg.png', 'profile_background_tile': False, 'profile_image_url': 'http://pbs.twimg.com/profile_images/962882686619660288/d3slvFlU_normal.jpg', 'profile_image_url_https': 'https://pbs.twimg.com/profile_images/962882686619660288/d3slvFlU_normal.jpg', 'profile_banner_url': 'https://pbs.twimg.com/profile_banners/597363568/1474741932', 'profile_link_color': '1DA1F2', 'profile_sidebar_border_color': 'C0DEED', 'profile_sidebar_fill_color': 'DDEEF6', 'profile_text_color': '333333', 'profile_use_background_image': True, 'has_extended_profile': False, 'default_profile': True, 'default_profile_image': False, 'following': False, 'follow_request_sent': False, 'notifications': False, 'translator_type': 'none'}, id=597363568, id_str='597363568', name='piero martinez', screen_name='pierom1228', location='Bogota D.C.\\n', description='Benditos son los que confían en el\\xa0Señor y han hecho que el\\xa0Señor\\xa0sea su esperanza y confianza.  Jeremías 17:7 NTV - Cristiano-Derecha', url=None, entities={'description': {'urls': []}}, protected=False, followers_count=2307, friends_count=2935, listed_count=12, created_at=datetime.datetime(2012, 6, 2, 12, 18, 12), favourites_count=8761, utc_offset=None, time_zone=None, geo_enabled=True, verified=False, statuses_count=140168, lang=None, contributors_enabled=False, is_translator=False, is_translation_enabled=False, profile_background_color='C0DEED', profile_background_image_url='http://abs.twimg.com/images/themes/theme1/bg.png', profile_background_image_url_https='https://abs.twimg.com/images/themes/theme1/bg.png', profile_background_tile=False, profile_image_url='http://pbs.twimg.com/profile_images/962882686619660288/d3slvFlU_normal.jpg', profile_image_url_https='https://pbs.twimg.com/profile_images/962882686619660288/d3slvFlU_normal.jpg', profile_banner_url='https://pbs.twimg.com/profile_banners/597363568/1474741932', profile_link_color='1DA1F2', profile_sidebar_border_color='C0DEED', profile_sidebar_fill_color='DDEEF6', profile_text_color='333333', profile_use_background_image=True, has_extended_profile=False, default_profile=True, default_profile_image=False, following=False, follow_request_sent=False, notifications=False, translator_type='none'), user=User(_api=<tweepy.api.API object at 0x7fd6ac0f5810>, _json={'id': 597363568, 'id_str': '597363568', 'name': 'piero martinez', 'screen_name': 'pierom1228', 'location': 'Bogota D.C.\\n', 'description': 'Benditos son los que confían en el\\xa0Señor y han hecho que el\\xa0Señor\\xa0sea su esperanza y confianza.  Jeremías 17:7 NTV - Cristiano-Derecha', 'url': None, 'entities': {'description': {'urls': []}}, 'protected': False, 'followers_count': 2307, 'friends_count': 2935, 'listed_count': 12, 'created_at': 'Sat Jun 02 12:18:12 +0000 2012', 'favourites_count': 8761, 'utc_offset': None, 'time_zone': None, 'geo_enabled': True, 'verified': False, 'statuses_count': 140168, 'lang': None, 'contributors_enabled': False, 'is_translator': False, 'is_translation_enabled': False, 'profile_background_color': 'C0DEED', 'profile_background_image_url': 'http://abs.twimg.com/images/themes/theme1/bg.png', 'profile_background_image_url_https': 'https://abs.twimg.com/images/themes/theme1/bg.png', 'profile_background_tile': False, 'profile_image_url': 'http://pbs.twimg.com/profile_images/962882686619660288/d3slvFlU_normal.jpg', 'profile_image_url_https': 'https://pbs.twimg.com/profile_images/962882686619660288/d3slvFlU_normal.jpg', 'profile_banner_url': 'https://pbs.twimg.com/profile_banners/597363568/1474741932', 'profile_link_color': '1DA1F2', 'profile_sidebar_border_color': 'C0DEED', 'profile_sidebar_fill_color': 'DDEEF6', 'profile_text_color': '333333', 'profile_use_background_image': True, 'has_extended_profile': False, 'default_profile': True, 'default_profile_image': False, 'following': False, 'follow_request_sent': False, 'notifications': False, 'translator_type': 'none'}, id=597363568, id_str='597363568', name='piero martinez', screen_name='pierom1228', location='Bogota D.C.\\n', description='Benditos son los que confían en el\\xa0Señor y han hecho que el\\xa0Señor\\xa0sea su esperanza y confianza.  Jeremías 17:7 NTV - Cristiano-Derecha', url=None, entities={'description': {'urls': []}}, protected=False, followers_count=2307, friends_count=2935, listed_count=12, created_at=datetime.datetime(2012, 6, 2, 12, 18, 12), favourites_count=8761, utc_offset=None, time_zone=None, geo_enabled=True, verified=False, statuses_count=140168, lang=None, contributors_enabled=False, is_translator=False, is_translation_enabled=False, profile_background_color='C0DEED', profile_background_image_url='http://abs.twimg.com/images/themes/theme1/bg.png', profile_background_image_url_https='https://abs.twimg.com/images/themes/theme1/bg.png', profile_background_tile=False, profile_image_url='http://pbs.twimg.com/profile_images/962882686619660288/d3slvFlU_normal.jpg', profile_image_url_https='https://pbs.twimg.com/profile_images/962882686619660288/d3slvFlU_normal.jpg', profile_banner_url='https://pbs.twimg.com/profile_banners/597363568/1474741932', profile_link_color='1DA1F2', profile_sidebar_border_color='C0DEED', profile_sidebar_fill_color='DDEEF6', profile_text_color='333333', profile_use_background_image=True, has_extended_profile=False, default_profile=True, default_profile_image=False, following=False, follow_request_sent=False, notifications=False, translator_type='none'), geo=None, coordinates=None, place=None, contributors=None, retweeted_status=Status(_api=<tweepy.api.API object at 0x7fd6ac0f5810>, _json={'created_at': 'Fri Sep 11 22:21:54 +0000 2020', 'id': 1304545732419039236, 'id_str': '1304545732419039236', 'text': '“No va a haber una sola marcha pacífica en Bogotá, no existe esa posibilidad. Que Claudia López las prohiba todas”.… https://t.co/NfFQCcVlC9', 'truncated': True, 'entities': {'hashtags': [], 'symbols': [], 'user_mentions': [], 'urls': [{'url': 'https://t.co/NfFQCcVlC9', 'expanded_url': 'https://twitter.com/i/web/status/1304545732419039236', 'display_url': 'twitter.com/i/web/status/1…', 'indices': [117, 140]}]}, 'metadata': {'iso_language_code': 'es', 'result_type': 'recent'}, 'source': '<a href=\"https://studio.twitter.com\" rel=\"nofollow\">Twitter Media Studio</a>', 'in_reply_to_status_id': None, 'in_reply_to_status_id_str': None, 'in_reply_to_user_id': None, 'in_reply_to_user_id_str': None, 'in_reply_to_screen_name': None, 'user': {'id': 18079284, 'id_str': '18079284', 'name': 'Revista Semana', 'screen_name': 'RevistaSemana', 'location': 'Colombia', 'description': 'Periodismo con carácter.', 'url': 'https://t.co/8yYNFZ7Uif', 'entities': {'url': {'urls': [{'url': 'https://t.co/8yYNFZ7Uif', 'expanded_url': 'http://Semana.com', 'display_url': 'Semana.com', 'indices': [0, 23]}]}, 'description': {'urls': []}}, 'protected': False, 'followers_count': 4548855, 'friends_count': 56, 'listed_count': 10632, 'created_at': 'Fri Dec 12 16:25:25 +0000 2008', 'favourites_count': 2545, 'utc_offset': None, 'time_zone': None, 'geo_enabled': False, 'verified': True, 'statuses_count': 258060, 'lang': None, 'contributors_enabled': False, 'is_translator': False, 'is_translation_enabled': False, 'profile_background_color': 'FFFFFF', 'profile_background_image_url': 'http://abs.twimg.com/images/themes/theme1/bg.png', 'profile_background_image_url_https': 'https://abs.twimg.com/images/themes/theme1/bg.png', 'profile_background_tile': False, 'profile_image_url': 'http://pbs.twimg.com/profile_images/1229471444394029061/AUEHUy1y_normal.jpg', 'profile_image_url_https': 'https://pbs.twimg.com/profile_images/1229471444394029061/AUEHUy1y_normal.jpg', 'profile_banner_url': 'https://pbs.twimg.com/profile_banners/18079284/1599832913', 'profile_link_color': 'C21818', 'profile_sidebar_border_color': 'FFFFFF', 'profile_sidebar_fill_color': 'CCD2D4', 'profile_text_color': '333333', 'profile_use_background_image': True, 'has_extended_profile': False, 'default_profile': False, 'default_profile_image': False, 'following': False, 'follow_request_sent': False, 'notifications': False, 'translator_type': 'regular'}, 'geo': None, 'coordinates': None, 'place': None, 'contributors': None, 'is_quote_status': False, 'retweet_count': 403, 'favorite_count': 784, 'favorited': False, 'retweeted': False, 'possibly_sensitive': False, 'lang': 'es'}, created_at=datetime.datetime(2020, 9, 11, 22, 21, 54), id=1304545732419039236, id_str='1304545732419039236', text='“No va a haber una sola marcha pacífica en Bogotá, no existe esa posibilidad. Que Claudia López las prohiba todas”.… https://t.co/NfFQCcVlC9', truncated=True, entities={'hashtags': [], 'symbols': [], 'user_mentions': [], 'urls': [{'url': 'https://t.co/NfFQCcVlC9', 'expanded_url': 'https://twitter.com/i/web/status/1304545732419039236', 'display_url': 'twitter.com/i/web/status/1…', 'indices': [117, 140]}]}, metadata={'iso_language_code': 'es', 'result_type': 'recent'}, source='Twitter Media Studio', source_url='https://studio.twitter.com', in_reply_to_status_id=None, in_reply_to_status_id_str=None, in_reply_to_user_id=None, in_reply_to_user_id_str=None, in_reply_to_screen_name=None, author=User(_api=<tweepy.api.API object at 0x7fd6ac0f5810>, _json={'id': 18079284, 'id_str': '18079284', 'name': 'Revista Semana', 'screen_name': 'RevistaSemana', 'location': 'Colombia', 'description': 'Periodismo con carácter.', 'url': 'https://t.co/8yYNFZ7Uif', 'entities': {'url': {'urls': [{'url': 'https://t.co/8yYNFZ7Uif', 'expanded_url': 'http://Semana.com', 'display_url': 'Semana.com', 'indices': [0, 23]}]}, 'description': {'urls': []}}, 'protected': False, 'followers_count': 4548855, 'friends_count': 56, 'listed_count': 10632, 'created_at': 'Fri Dec 12 16:25:25 +0000 2008', 'favourites_count': 2545, 'utc_offset': None, 'time_zone': None, 'geo_enabled': False, 'verified': True, 'statuses_count': 258060, 'lang': None, 'contributors_enabled': False, 'is_translator': False, 'is_translation_enabled': False, 'profile_background_color': 'FFFFFF', 'profile_background_image_url': 'http://abs.twimg.com/images/themes/theme1/bg.png', 'profile_background_image_url_https': 'https://abs.twimg.com/images/themes/theme1/bg.png', 'profile_background_tile': False, 'profile_image_url': 'http://pbs.twimg.com/profile_images/1229471444394029061/AUEHUy1y_normal.jpg', 'profile_image_url_https': 'https://pbs.twimg.com/profile_images/1229471444394029061/AUEHUy1y_normal.jpg', 'profile_banner_url': 'https://pbs.twimg.com/profile_banners/18079284/1599832913', 'profile_link_color': 'C21818', 'profile_sidebar_border_color': 'FFFFFF', 'profile_sidebar_fill_color': 'CCD2D4', 'profile_text_color': '333333', 'profile_use_background_image': True, 'has_extended_profile': False, 'default_profile': False, 'default_profile_image': False, 'following': False, 'follow_request_sent': False, 'notifications': False, 'translator_type': 'regular'}, id=18079284, id_str='18079284', name='Revista Semana', screen_name='RevistaSemana', location='Colombia', description='Periodismo con carácter.', url='https://t.co/8yYNFZ7Uif', entities={'url': {'urls': [{'url': 'https://t.co/8yYNFZ7Uif', 'expanded_url': 'http://Semana.com', 'display_url': 'Semana.com', 'indices': [0, 23]}]}, 'description': {'urls': []}}, protected=False, followers_count=4548855, friends_count=56, listed_count=10632, created_at=datetime.datetime(2008, 12, 12, 16, 25, 25), favourites_count=2545, utc_offset=None, time_zone=None, geo_enabled=False, verified=True, statuses_count=258060, lang=None, contributors_enabled=False, is_translator=False, is_translation_enabled=False, profile_background_color='FFFFFF', profile_background_image_url='http://abs.twimg.com/images/themes/theme1/bg.png', profile_background_image_url_https='https://abs.twimg.com/images/themes/theme1/bg.png', profile_background_tile=False, profile_image_url='http://pbs.twimg.com/profile_images/1229471444394029061/AUEHUy1y_normal.jpg', profile_image_url_https='https://pbs.twimg.com/profile_images/1229471444394029061/AUEHUy1y_normal.jpg', profile_banner_url='https://pbs.twimg.com/profile_banners/18079284/1599832913', profile_link_color='C21818', profile_sidebar_border_color='FFFFFF', profile_sidebar_fill_color='CCD2D4', profile_text_color='333333', profile_use_background_image=True, has_extended_profile=False, default_profile=False, default_profile_image=False, following=False, follow_request_sent=False, notifications=False, translator_type='regular'), user=User(_api=<tweepy.api.API object at 0x7fd6ac0f5810>, _json={'id': 18079284, 'id_str': '18079284', 'name': 'Revista Semana', 'screen_name': 'RevistaSemana', 'location': 'Colombia', 'description': 'Periodismo con carácter.', 'url': 'https://t.co/8yYNFZ7Uif', 'entities': {'url': {'urls': [{'url': 'https://t.co/8yYNFZ7Uif', 'expanded_url': 'http://Semana.com', 'display_url': 'Semana.com', 'indices': [0, 23]}]}, 'description': {'urls': []}}, 'protected': False, 'followers_count': 4548855, 'friends_count': 56, 'listed_count': 10632, 'created_at': 'Fri Dec 12 16:25:25 +0000 2008', 'favourites_count': 2545, 'utc_offset': None, 'time_zone': None, 'geo_enabled': False, 'verified': True, 'statuses_count': 258060, 'lang': None, 'contributors_enabled': False, 'is_translator': False, 'is_translation_enabled': False, 'profile_background_color': 'FFFFFF', 'profile_background_image_url': 'http://abs.twimg.com/images/themes/theme1/bg.png', 'profile_background_image_url_https': 'https://abs.twimg.com/images/themes/theme1/bg.png', 'profile_background_tile': False, 'profile_image_url': 'http://pbs.twimg.com/profile_images/1229471444394029061/AUEHUy1y_normal.jpg', 'profile_image_url_https': 'https://pbs.twimg.com/profile_images/1229471444394029061/AUEHUy1y_normal.jpg', 'profile_banner_url': 'https://pbs.twimg.com/profile_banners/18079284/1599832913', 'profile_link_color': 'C21818', 'profile_sidebar_border_color': 'FFFFFF', 'profile_sidebar_fill_color': 'CCD2D4', 'profile_text_color': '333333', 'profile_use_background_image': True, 'has_extended_profile': False, 'default_profile': False, 'default_profile_image': False, 'following': False, 'follow_request_sent': False, 'notifications': False, 'translator_type': 'regular'}, id=18079284, id_str='18079284', name='Revista Semana', screen_name='RevistaSemana', location='Colombia', description='Periodismo con carácter.', url='https://t.co/8yYNFZ7Uif', entities={'url': {'urls': [{'url': 'https://t.co/8yYNFZ7Uif', 'expanded_url': 'http://Semana.com', 'display_url': 'Semana.com', 'indices': [0, 23]}]}, 'description': {'urls': []}}, protected=False, followers_count=4548855, friends_count=56, listed_count=10632, created_at=datetime.datetime(2008, 12, 12, 16, 25, 25), favourites_count=2545, utc_offset=None, time_zone=None, geo_enabled=False, verified=True, statuses_count=258060, lang=None, contributors_enabled=False, is_translator=False, is_translation_enabled=False, profile_background_color='FFFFFF', profile_background_image_url='http://abs.twimg.com/images/themes/theme1/bg.png', profile_background_image_url_https='https://abs.twimg.com/images/themes/theme1/bg.png', profile_background_tile=False, profile_image_url='http://pbs.twimg.com/profile_images/1229471444394029061/AUEHUy1y_normal.jpg', profile_image_url_https='https://pbs.twimg.com/profile_images/1229471444394029061/AUEHUy1y_normal.jpg', profile_banner_url='https://pbs.twimg.com/profile_banners/18079284/1599832913', profile_link_color='C21818', profile_sidebar_border_color='FFFFFF', profile_sidebar_fill_color='CCD2D4', profile_text_color='333333', profile_use_background_image=True, has_extended_profile=False, default_profile=False, default_profile_image=False, following=False, follow_request_sent=False, notifications=False, translator_type='regular'), geo=None, coordinates=None, place=None, contributors=None, is_quote_status=False, retweet_count=403, favorite_count=784, favorited=False, retweeted=False, possibly_sensitive=False, lang='es'), is_quote_status=False, retweet_count=403, favorite_count=0, favorited=False, retweeted=False, lang='es')"
      ]
     },
     "execution_count": 5,
     "metadata": {},
     "output_type": "execute_result"
    }
   ],
   "source": [
    "test[0]"
   ]
  },
  {
   "cell_type": "code",
   "execution_count": 6,
   "metadata": {},
   "outputs": [
    {
     "ename": "IndexError",
     "evalue": "list index out of range",
     "output_type": "error",
     "traceback": [
      "\u001b[0;31m---------------------------------------------------------------------------\u001b[0m",
      "\u001b[0;31mIndexError\u001b[0m                                Traceback (most recent call last)",
      "\u001b[0;32m<ipython-input-6-131027926584>\u001b[0m in \u001b[0;36m<module>\u001b[0;34m\u001b[0m\n\u001b[0;32m----> 1\u001b[0;31m \u001b[0mtest\u001b[0m\u001b[0;34m[\u001b[0m\u001b[0;36m19\u001b[0m\u001b[0;34m]\u001b[0m\u001b[0;34m.\u001b[0m\u001b[0mentities\u001b[0m\u001b[0;34m[\u001b[0m\u001b[0;34m'hashtags'\u001b[0m\u001b[0;34m]\u001b[0m\u001b[0;34m[\u001b[0m\u001b[0;36m0\u001b[0m\u001b[0;34m]\u001b[0m\u001b[0;34m.\u001b[0m\u001b[0mtext\u001b[0m\u001b[0;34m\u001b[0m\u001b[0;34m\u001b[0m\u001b[0m\n\u001b[0m",
      "\u001b[0;31mIndexError\u001b[0m: list index out of range"
     ]
    }
   ],
   "source": [
    "test[19].entities['hashtags'][0].text"
   ]
  }
 ],
 "metadata": {
  "kernelspec": {
   "display_name": "Python 3",
   "language": "python",
   "name": "python3"
  },
  "language_info": {
   "codemirror_mode": {
    "name": "ipython",
    "version": 3
   },
   "file_extension": ".py",
   "mimetype": "text/x-python",
   "name": "python",
   "nbconvert_exporter": "python",
   "pygments_lexer": "ipython3",
   "version": "3.7.6"
  }
 },
 "nbformat": 4,
 "nbformat_minor": 4
}
