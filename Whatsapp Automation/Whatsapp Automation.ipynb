{
 "cells": [
  {
   "cell_type": "code",
   "execution_count": 11,
   "id": "ad7c320f",
   "metadata": {},
   "outputs": [],
   "source": [
    "import names\n",
    "import random\n",
    "import undetected_chromedriver as uc \n",
    "import time\n",
    "import string\n",
    "import csv\n",
    "from selenium.webdriver.common.by import By\n",
    "from selenium.webdriver.common.action_chains import ActionChains\n",
    "from selenium.webdriver.support.wait import WebDriverWait\n",
    "from selenium.webdriver.support import expected_conditions as EC\n",
    "import pandas as pd\n",
    "from selenium.webdriver.common.keys import Keys"
   ]
  },
  {
   "cell_type": "code",
   "execution_count": 12,
   "id": "3ee80721",
   "metadata": {},
   "outputs": [
    {
     "name": "stdout",
     "output_type": "stream",
     "text": [
      "[+] Scan Your QR Code\n"
     ]
    }
   ],
   "source": [
    "chrome_options = uc.ChromeOptions()\n",
    "chrome_options.add_argument(\"--no-sandbox\")\n",
    "chrome_options.add_argument(\"--disable-dev-shm-usage\")\n",
    "chrome_options.add_argument(\"--start-maximized\")\n",
    "chrome_options.add_argument('--disable-popup-blocking')\n",
    "\n",
    "driver = uc.Chrome(options=chrome_options)\n",
    "driver.get(\"https://web.whatsapp.com/\")\n",
    "print('[+] Scan Your QR Code')\n",
    "time.sleep(20)\n"
   ]
  },
  {
   "cell_type": "code",
   "execution_count": 13,
   "id": "9b5011ef",
   "metadata": {},
   "outputs": [
    {
     "name": "stdout",
     "output_type": "stream",
     "text": [
      "Enter Your Phone Number which you are messaging but if your number is saved them input the name - (spelling should be correct!) : Ahmed mujtaba\n",
      "[+] Successfully Recieved the message!\n",
      "[+] Successfully Send message!\n",
      "Have you sent message type only [y]: y\n",
      "[+] Successfully get the data!\n",
      "ahmed.muqjshs@gmail.com\n",
      "+880 30070988282\n",
      "Ahmed mujtqva\n",
      "1234555\n"
     ]
    },
    {
     "ename": "ElementClickInterceptedException",
     "evalue": "Message: element click intercepted: Element is not clickable at point (1124, 849)\n  (Session info: chrome=110.0.5481.178)\nStacktrace:\nBacktrace:\n\t(No symbol) [0x011937D3]\n\t(No symbol) [0x01128B81]\n\t(No symbol) [0x0102B36D]\n\t(No symbol) [0x01064E3B]\n\t(No symbol) [0x010626DB]\n\t(No symbol) [0x0105FD0B]\n\t(No symbol) [0x0105E4D8]\n\t(No symbol) [0x01053253]\n\t(No symbol) [0x0107B41C]\n\t(No symbol) [0x01052B96]\n\t(No symbol) [0x0107B774]\n\t(No symbol) [0x01091215]\n\t(No symbol) [0x0107B216]\n\t(No symbol) [0x01050D97]\n\t(No symbol) [0x0105253D]\n\tGetHandleVerifier [0x0140ABF2+2510930]\n\tGetHandleVerifier [0x01438EC1+2700065]\n\tGetHandleVerifier [0x0143C86C+2714828]\n\tGetHandleVerifier [0x01243480+645344]\n\t(No symbol) [0x01130FD2]\n\t(No symbol) [0x01136C68]\n\t(No symbol) [0x01136D4B]\n\t(No symbol) [0x01140D6B]\n\tBaseThreadInitThunk [0x766C00F9+25]\n\tRtlGetAppContainerNamedObjectPath [0x776E7BBE+286]\n\tRtlGetAppContainerNamedObjectPath [0x776E7B8E+238]\n",
     "output_type": "error",
     "traceback": [
      "\u001b[1;31m---------------------------------------------------------------------------\u001b[0m",
      "\u001b[1;31mElementClickInterceptedException\u001b[0m          Traceback (most recent call last)",
      "\u001b[1;32m~\\AppData\\Local\\Temp\\ipykernel_18052\\860087460.py\u001b[0m in \u001b[0;36m<module>\u001b[1;34m\u001b[0m\n\u001b[0;32m     77\u001b[0m     \u001b[0mdriver\u001b[0m\u001b[1;33m.\u001b[0m\u001b[0mfind_element\u001b[0m\u001b[1;33m(\u001b[0m\u001b[0mBy\u001b[0m\u001b[1;33m.\u001b[0m\u001b[0mXPATH\u001b[0m\u001b[1;33m,\u001b[0m\u001b[1;34m\"//input[@name='sb_reg_password_confirm']\"\u001b[0m\u001b[1;33m)\u001b[0m\u001b[1;33m.\u001b[0m\u001b[0msend_keys\u001b[0m\u001b[1;33m(\u001b[0m\u001b[0mpassword\u001b[0m\u001b[1;33m)\u001b[0m\u001b[1;33m\u001b[0m\u001b[1;33m\u001b[0m\u001b[0m\n\u001b[0;32m     78\u001b[0m     \u001b[0mdriver\u001b[0m\u001b[1;33m.\u001b[0m\u001b[0mfind_element\u001b[0m\u001b[1;33m(\u001b[0m\u001b[0mBy\u001b[0m\u001b[1;33m.\u001b[0m\u001b[0mXPATH\u001b[0m\u001b[1;33m,\u001b[0m\u001b[1;34m\"//div[@class='icheckbox_minimal']//ins\"\u001b[0m\u001b[1;33m)\u001b[0m\u001b[1;33m.\u001b[0m\u001b[0mclick\u001b[0m\u001b[1;33m(\u001b[0m\u001b[1;33m)\u001b[0m\u001b[1;33m\u001b[0m\u001b[1;33m\u001b[0m\u001b[0m\n\u001b[1;32m---> 79\u001b[1;33m     \u001b[0mdriver\u001b[0m\u001b[1;33m.\u001b[0m\u001b[0mfind_element\u001b[0m\u001b[1;33m(\u001b[0m\u001b[0mBy\u001b[0m\u001b[1;33m.\u001b[0m\u001b[0mID\u001b[0m\u001b[1;33m,\u001b[0m\u001b[1;34m\"sb_register_submit\"\u001b[0m\u001b[1;33m)\u001b[0m\u001b[1;33m.\u001b[0m\u001b[0mclick\u001b[0m\u001b[1;33m(\u001b[0m\u001b[1;33m)\u001b[0m\u001b[1;33m\u001b[0m\u001b[1;33m\u001b[0m\u001b[0m\n\u001b[0m",
      "\u001b[1;32m~\\AppData\\Roaming\\Python\\Python39\\site-packages\\selenium\\webdriver\\remote\\webelement.py\u001b[0m in \u001b[0;36mclick\u001b[1;34m(self)\u001b[0m\n\u001b[0;32m     86\u001b[0m     \u001b[1;32mdef\u001b[0m \u001b[0mclick\u001b[0m\u001b[1;33m(\u001b[0m\u001b[0mself\u001b[0m\u001b[1;33m)\u001b[0m \u001b[1;33m->\u001b[0m \u001b[1;32mNone\u001b[0m\u001b[1;33m:\u001b[0m\u001b[1;33m\u001b[0m\u001b[1;33m\u001b[0m\u001b[0m\n\u001b[0;32m     87\u001b[0m         \u001b[1;34m\"\"\"Clicks the element.\"\"\"\u001b[0m\u001b[1;33m\u001b[0m\u001b[1;33m\u001b[0m\u001b[0m\n\u001b[1;32m---> 88\u001b[1;33m         \u001b[0mself\u001b[0m\u001b[1;33m.\u001b[0m\u001b[0m_execute\u001b[0m\u001b[1;33m(\u001b[0m\u001b[0mCommand\u001b[0m\u001b[1;33m.\u001b[0m\u001b[0mCLICK_ELEMENT\u001b[0m\u001b[1;33m)\u001b[0m\u001b[1;33m\u001b[0m\u001b[1;33m\u001b[0m\u001b[0m\n\u001b[0m\u001b[0;32m     89\u001b[0m \u001b[1;33m\u001b[0m\u001b[0m\n\u001b[0;32m     90\u001b[0m     \u001b[1;32mdef\u001b[0m \u001b[0msubmit\u001b[0m\u001b[1;33m(\u001b[0m\u001b[0mself\u001b[0m\u001b[1;33m)\u001b[0m\u001b[1;33m:\u001b[0m\u001b[1;33m\u001b[0m\u001b[1;33m\u001b[0m\u001b[0m\n",
      "\u001b[1;32m~\\AppData\\Roaming\\Python\\Python39\\site-packages\\selenium\\webdriver\\remote\\webelement.py\u001b[0m in \u001b[0;36m_execute\u001b[1;34m(self, command, params)\u001b[0m\n\u001b[0;32m    394\u001b[0m             \u001b[0mparams\u001b[0m \u001b[1;33m=\u001b[0m \u001b[1;33m{\u001b[0m\u001b[1;33m}\u001b[0m\u001b[1;33m\u001b[0m\u001b[1;33m\u001b[0m\u001b[0m\n\u001b[0;32m    395\u001b[0m         \u001b[0mparams\u001b[0m\u001b[1;33m[\u001b[0m\u001b[1;34m'id'\u001b[0m\u001b[1;33m]\u001b[0m \u001b[1;33m=\u001b[0m \u001b[0mself\u001b[0m\u001b[1;33m.\u001b[0m\u001b[0m_id\u001b[0m\u001b[1;33m\u001b[0m\u001b[1;33m\u001b[0m\u001b[0m\n\u001b[1;32m--> 396\u001b[1;33m         \u001b[1;32mreturn\u001b[0m \u001b[0mself\u001b[0m\u001b[1;33m.\u001b[0m\u001b[0m_parent\u001b[0m\u001b[1;33m.\u001b[0m\u001b[0mexecute\u001b[0m\u001b[1;33m(\u001b[0m\u001b[0mcommand\u001b[0m\u001b[1;33m,\u001b[0m \u001b[0mparams\u001b[0m\u001b[1;33m)\u001b[0m\u001b[1;33m\u001b[0m\u001b[1;33m\u001b[0m\u001b[0m\n\u001b[0m\u001b[0;32m    397\u001b[0m \u001b[1;33m\u001b[0m\u001b[0m\n\u001b[0;32m    398\u001b[0m     \u001b[1;32mdef\u001b[0m \u001b[0mfind_element\u001b[0m\u001b[1;33m(\u001b[0m\u001b[0mself\u001b[0m\u001b[1;33m,\u001b[0m \u001b[0mby\u001b[0m\u001b[1;33m=\u001b[0m\u001b[0mBy\u001b[0m\u001b[1;33m.\u001b[0m\u001b[0mID\u001b[0m\u001b[1;33m,\u001b[0m \u001b[0mvalue\u001b[0m\u001b[1;33m=\u001b[0m\u001b[1;32mNone\u001b[0m\u001b[1;33m)\u001b[0m \u001b[1;33m->\u001b[0m \u001b[0mWebElement\u001b[0m\u001b[1;33m:\u001b[0m\u001b[1;33m\u001b[0m\u001b[1;33m\u001b[0m\u001b[0m\n",
      "\u001b[1;32m~\\AppData\\Roaming\\Python\\Python39\\site-packages\\selenium\\webdriver\\remote\\webdriver.py\u001b[0m in \u001b[0;36mexecute\u001b[1;34m(self, driver_command, params)\u001b[0m\n\u001b[0;32m    426\u001b[0m         \u001b[0mresponse\u001b[0m \u001b[1;33m=\u001b[0m \u001b[0mself\u001b[0m\u001b[1;33m.\u001b[0m\u001b[0mcommand_executor\u001b[0m\u001b[1;33m.\u001b[0m\u001b[0mexecute\u001b[0m\u001b[1;33m(\u001b[0m\u001b[0mdriver_command\u001b[0m\u001b[1;33m,\u001b[0m \u001b[0mparams\u001b[0m\u001b[1;33m)\u001b[0m\u001b[1;33m\u001b[0m\u001b[1;33m\u001b[0m\u001b[0m\n\u001b[0;32m    427\u001b[0m         \u001b[1;32mif\u001b[0m \u001b[0mresponse\u001b[0m\u001b[1;33m:\u001b[0m\u001b[1;33m\u001b[0m\u001b[1;33m\u001b[0m\u001b[0m\n\u001b[1;32m--> 428\u001b[1;33m             \u001b[0mself\u001b[0m\u001b[1;33m.\u001b[0m\u001b[0merror_handler\u001b[0m\u001b[1;33m.\u001b[0m\u001b[0mcheck_response\u001b[0m\u001b[1;33m(\u001b[0m\u001b[0mresponse\u001b[0m\u001b[1;33m)\u001b[0m\u001b[1;33m\u001b[0m\u001b[1;33m\u001b[0m\u001b[0m\n\u001b[0m\u001b[0;32m    429\u001b[0m             response['value'] = self._unwrap_value(\n\u001b[0;32m    430\u001b[0m                 response.get('value', None))\n",
      "\u001b[1;32m~\\AppData\\Roaming\\Python\\Python39\\site-packages\\selenium\\webdriver\\remote\\errorhandler.py\u001b[0m in \u001b[0;36mcheck_response\u001b[1;34m(self, response)\u001b[0m\n\u001b[0;32m    241\u001b[0m                 \u001b[0malert_text\u001b[0m \u001b[1;33m=\u001b[0m \u001b[0mvalue\u001b[0m\u001b[1;33m[\u001b[0m\u001b[1;34m'alert'\u001b[0m\u001b[1;33m]\u001b[0m\u001b[1;33m.\u001b[0m\u001b[0mget\u001b[0m\u001b[1;33m(\u001b[0m\u001b[1;34m'text'\u001b[0m\u001b[1;33m)\u001b[0m\u001b[1;33m\u001b[0m\u001b[1;33m\u001b[0m\u001b[0m\n\u001b[0;32m    242\u001b[0m             \u001b[1;32mraise\u001b[0m \u001b[0mexception_class\u001b[0m\u001b[1;33m(\u001b[0m\u001b[0mmessage\u001b[0m\u001b[1;33m,\u001b[0m \u001b[0mscreen\u001b[0m\u001b[1;33m,\u001b[0m \u001b[0mstacktrace\u001b[0m\u001b[1;33m,\u001b[0m \u001b[0malert_text\u001b[0m\u001b[1;33m)\u001b[0m  \u001b[1;31m# type: ignore[call-arg]  # mypy is not smart enough here\u001b[0m\u001b[1;33m\u001b[0m\u001b[1;33m\u001b[0m\u001b[0m\n\u001b[1;32m--> 243\u001b[1;33m         \u001b[1;32mraise\u001b[0m \u001b[0mexception_class\u001b[0m\u001b[1;33m(\u001b[0m\u001b[0mmessage\u001b[0m\u001b[1;33m,\u001b[0m \u001b[0mscreen\u001b[0m\u001b[1;33m,\u001b[0m \u001b[0mstacktrace\u001b[0m\u001b[1;33m)\u001b[0m\u001b[1;33m\u001b[0m\u001b[1;33m\u001b[0m\u001b[0m\n\u001b[0m",
      "\u001b[1;31mElementClickInterceptedException\u001b[0m: Message: element click intercepted: Element is not clickable at point (1124, 849)\n  (Session info: chrome=110.0.5481.178)\nStacktrace:\nBacktrace:\n\t(No symbol) [0x011937D3]\n\t(No symbol) [0x01128B81]\n\t(No symbol) [0x0102B36D]\n\t(No symbol) [0x01064E3B]\n\t(No symbol) [0x010626DB]\n\t(No symbol) [0x0105FD0B]\n\t(No symbol) [0x0105E4D8]\n\t(No symbol) [0x01053253]\n\t(No symbol) [0x0107B41C]\n\t(No symbol) [0x01052B96]\n\t(No symbol) [0x0107B774]\n\t(No symbol) [0x01091215]\n\t(No symbol) [0x0107B216]\n\t(No symbol) [0x01050D97]\n\t(No symbol) [0x0105253D]\n\tGetHandleVerifier [0x0140ABF2+2510930]\n\tGetHandleVerifier [0x01438EC1+2700065]\n\tGetHandleVerifier [0x0143C86C+2714828]\n\tGetHandleVerifier [0x01243480+645344]\n\t(No symbol) [0x01130FD2]\n\t(No symbol) [0x01136C68]\n\t(No symbol) [0x01136D4B]\n\t(No symbol) [0x01140D6B]\n\tBaseThreadInitThunk [0x766C00F9+25]\n\tRtlGetAppContainerNamedObjectPath [0x776E7BBE+286]\n\tRtlGetAppContainerNamedObjectPath [0x776E7B8E+238]\n"
     ]
    }
   ],
   "source": [
    "driver.switch_to.window(driver.window_handles[0])  \n",
    "u = input(\"Enter Your Phone Number which you are messaging but if your number is saved them input the name - (spelling should be correct!) : \")\n",
    "try:\n",
    "    message_from_user = driver.find_element(By.XPATH,f\"//*[text()='{u}']\")\n",
    "    message_from_user.click()\n",
    "except Exception as ex:\n",
    "    print(ex)\n",
    "\n",
    "\n",
    "try:\n",
    "    message_from_user = driver.find_element(By.XPATH,\"(//span[@aria-label='1 unread message'])[1]\")\n",
    "except:\n",
    "    try:\n",
    "        message_from_user = driver.find_element(By.XPATH,\"(//span[@aria-label='1 unread message'])[1]\")\n",
    "        message_from_user.click()\n",
    "    except:pass\n",
    "driver.switch_to.window(driver.window_handles[0])  \n",
    "print('[+] Successfully Recieved the message!')\n",
    "bot = driver.find_element(By.XPATH,\"//p[@class='selectable-text copyable-text iq0m558w']\")\n",
    "message = \"Hey, I am bot.... Please can you provide me such details : email and password\"\n",
    "bot.send_keys(message)\n",
    "send_message = driver.find_element(By.XPATH,\"//button[@data-testid='compose-btn-send']\")\n",
    "message = \" Please provide data like Name : \\n Contact Number \\nEmail :? \\nPassword :?\"\n",
    "# print(message)\n",
    "bot.send_keys(message)\n",
    "send_message = driver.find_element(By.XPATH,\"//button[@data-testid='compose-btn-send']\")\n",
    "send_message.click()\n",
    "print('[+] Successfully Send message!')\n",
    "time.sleep(8)\n",
    "us = input(\"Have you sent message type only [y]: \")\n",
    "\n",
    "if us == \"y\":\n",
    "    time.sleep(2)\n",
    "    email = []\n",
    "    for i in driver.find_elements(By.XPATH,\"//div[@class='copyable-text']\"):\n",
    "        try:\n",
    "            alls = i.text\n",
    "    #         print(i.text)\n",
    "        except:pass\n",
    "        if \"Email :\" in alls and not 'Email :?' in alls:\n",
    "            email_ = alls\n",
    "            email_ = email_.replace(\"Email : \",'')\n",
    "\n",
    "        elif \"Contact Number : \" in alls:\n",
    "            contact = alls\n",
    "            contact = contact.replace(\"Contact Number : \",'')\n",
    "\n",
    "        elif \"Name : \" in alls and not 'Name :?' in alls:\n",
    "            name = alls\n",
    "            name = name.replace(\"Name : \",'')   \n",
    "\n",
    "        elif \"Password : \" in alls and not 'Password :?' in alls:\n",
    "            password = alls\n",
    "            password = password.replace(\"Password : \",'')        \n",
    "    \n",
    "    print(\"[+] Successfully get the data!\")\n",
    "    print(email_)\n",
    "    print(contact)\n",
    "    print(name)\n",
    "    print(password)\n",
    "\n",
    "    \n",
    "    driver.execute_script(\"window.open('https://jatalog.com/registerm/');\")\n",
    "    # Switch to the new window\n",
    "    driver.switch_to.window(driver.window_handles[1])\n",
    "    time.sleep(5)\n",
    "    try:\n",
    "        driver.find_element(By.ID,\"pwbox-1798\").send_keys(1234)\n",
    "        driver.find_element(By.XPATH,\"//input[@name='Submit']\").click()\n",
    "    except:pass\n",
    "\n",
    "    time.sleep(5)\n",
    "    driver.find_element(By.ID,\"sb_reg_name\").send_keys(name)\n",
    "    driver.find_element(By.ID,\"adforest_contact_number\").send_keys(contact)\n",
    "    driver.find_element(By.ID,\"sb_reg_email\").send_keys(email_)\n",
    "    driver.find_element(By.ID,\"sb_reg_password\").send_keys(password) \n",
    "    driver.find_element(By.XPATH,\"//input[@name='sb_reg_password_confirm']\").send_keys(password)\n",
    "    driver.find_element(By.XPATH,\"//div[@class='icheckbox_minimal']//ins\").click() \n",
    "    driver.find_element(By.ID,\"sb_register_submit\").click()"
   ]
  },
  {
   "cell_type": "code",
   "execution_count": null,
   "id": "24512965",
   "metadata": {},
   "outputs": [],
   "source": []
  }
 ],
 "metadata": {
  "kernelspec": {
   "display_name": "Python 3 (ipykernel)",
   "language": "python",
   "name": "python3"
  },
  "language_info": {
   "codemirror_mode": {
    "name": "ipython",
    "version": 3
   },
   "file_extension": ".py",
   "mimetype": "text/x-python",
   "name": "python",
   "nbconvert_exporter": "python",
   "pygments_lexer": "ipython3",
   "version": "3.9.13"
  }
 },
 "nbformat": 4,
 "nbformat_minor": 5
}
