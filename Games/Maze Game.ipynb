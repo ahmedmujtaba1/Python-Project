{
 "cells": [
  {
   "cell_type": "code",
   "execution_count": null,
   "id": "cb8483cf",
   "metadata": {},
   "outputs": [],
   "source": [
    "\"\"\"Maze, move from one side to another.\n",
    "\n",
    "Excercises\n",
    "\n",
    "1. Keep score by counting taps.\n",
    "2. Make the maze harder.\n",
    "3. Generate the same maze twice.\n",
    "\"\"\"\n",
    "\n",
    "from random import random\n",
    "from turtle import *\n",
    "\n",
    "from freegames import line\n",
    "\n",
    "\n",
    "def draw():\n",
    "    \"\"\"Draw maze.\"\"\"\n",
    "    color('black')\n",
    "    width(5)\n",
    "\n",
    "    for x in range(-200, 200, 40):\n",
    "        for y in range(-200, 200, 40):\n",
    "            if random() > 0.5:\n",
    "                line(x, y, x + 40, y + 40)\n",
    "            else:\n",
    "                line(x, y + 40, x + 40, y)\n",
    "\n",
    "    update()\n",
    "\n",
    "\n",
    "def tap(x, y):\n",
    "    \"\"\"Draw line and dot for screen tap.\"\"\"\n",
    "    if abs(x) > 198 or abs(y) > 198:\n",
    "        up()\n",
    "    else:\n",
    "        down()\n",
    "\n",
    "    width(2)\n",
    "    color('red')\n",
    "    goto(x, y)\n",
    "    dot(4)\n",
    "\n",
    "\n",
    "setup(420, 420, 370, 0)\n",
    "hideturtle()\n",
    "tracer(False)\n",
    "draw()\n",
    "onscreenclick(tap)\n",
    "done()"
   ]
  },
  {
   "cell_type": "code",
   "execution_count": null,
   "id": "eecfbda1",
   "metadata": {},
   "outputs": [],
   "source": []
  }
 ],
 "metadata": {
  "kernelspec": {
   "display_name": "Python 3 (ipykernel)",
   "language": "python",
   "name": "python3"
  },
  "language_info": {
   "codemirror_mode": {
    "name": "ipython",
    "version": 3
   },
   "file_extension": ".py",
   "mimetype": "text/x-python",
   "name": "python",
   "nbconvert_exporter": "python",
   "pygments_lexer": "ipython3",
   "version": "3.9.13"
  }
 },
 "nbformat": 4,
 "nbformat_minor": 5
}
