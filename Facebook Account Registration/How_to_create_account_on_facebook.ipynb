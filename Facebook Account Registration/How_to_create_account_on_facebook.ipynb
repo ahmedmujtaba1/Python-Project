{
 "cells": [
  {
   "cell_type": "code",
   "execution_count": 73,
   "id": "62ecfa6b",
   "metadata": {},
   "outputs": [],
   "source": [
    "from selenium import webdriver\n",
    "from webdriver_manager.chrome import ChromeDriverManager\n",
    "from selenium.webdriver.common.by import By\n",
    "from selenium.webdriver.common.keys import Keys\n",
    "from selenium.webdriver.support import expected_conditions as EC"
   ]
  },
  {
   "cell_type": "code",
   "execution_count": 2,
   "id": "117efda8",
   "metadata": {},
   "outputs": [
    {
     "name": "stderr",
     "output_type": "stream",
     "text": [
      "[WDM] - Downloading: 100%|████████████████████████████████████████████████████████| 6.68M/6.68M [00:06<00:00, 1.13MB/s]\n",
      "C:\\Users\\ABC\\AppData\\Local\\Temp\\ipykernel_13888\\2541333999.py:1: DeprecationWarning: executable_path has been deprecated, please pass in a Service object\n",
      "  driver = webdriver.Chrome(ChromeDriverManager().install())\n"
     ]
    }
   ],
   "source": [
    "driver = webdriver.Chrome(ChromeDriverManager().install())\n",
    "\n",
    "# Get \n",
    "driver.get(\"https://m.facebook.com/r.php?next=%2Fhome.php&soft=hjk\")"
   ]
  },
  {
   "cell_type": "code",
   "execution_count": 3,
   "id": "98790184",
   "metadata": {},
   "outputs": [],
   "source": [
    "driver.find_element(By.XPATH, \"//input[@name='firstname']\").send_keys(\"Jinnah\")\n",
    "driver.find_element(By.XPATH, \"//input[@name='lastname']\").send_keys(\"M.ali\")\n",
    "button = driver.find_element(By.XPATH, \"(//button[@value='Next'])[1]\")\n",
    "button.click()"
   ]
  },
  {
   "cell_type": "markdown",
   "id": "63f8efe1",
   "metadata": {},
   "source": [
    "# Next Page"
   ]
  },
  {
   "cell_type": "code",
   "execution_count": 4,
   "id": "3e34b5e2",
   "metadata": {},
   "outputs": [],
   "source": [
    "driver.find_element(By.XPATH, \"//select[@id='day']\").send_keys(47)\n",
    "driver.find_element(By.XPATH, \"//select[@id='month']\").send_keys(\"August\")\n",
    "driver.find_element(By.XPATH, \"//select[@id='year']\").send_keys(\"1947\")"
   ]
  },
  {
   "cell_type": "code",
   "execution_count": 6,
   "id": "a17df7ac",
   "metadata": {},
   "outputs": [],
   "source": [
    "button.click()"
   ]
  },
  {
   "cell_type": "markdown",
   "id": "256877d8",
   "metadata": {},
   "source": [
    "# Next Page"
   ]
  },
  {
   "cell_type": "code",
   "execution_count": 7,
   "id": "6b5ac63d",
   "metadata": {},
   "outputs": [],
   "source": [
    "driver.find_element(By.XPATH, \"//input[@name='reg_email__']\").send_keys(\"03007098129\")"
   ]
  },
  {
   "cell_type": "code",
   "execution_count": 8,
   "id": "28358dac",
   "metadata": {},
   "outputs": [],
   "source": [
    "button.click()"
   ]
  },
  {
   "cell_type": "markdown",
   "id": "07a16b08",
   "metadata": {},
   "source": [
    "# Next Page"
   ]
  },
  {
   "cell_type": "code",
   "execution_count": 13,
   "id": "32faaf7b",
   "metadata": {},
   "outputs": [],
   "source": [
    "driver.find_element(By.XPATH, \"//input[@id='Male']\").send_keys(\"Male\")"
   ]
  },
  {
   "cell_type": "code",
   "execution_count": 14,
   "id": "a966e73a",
   "metadata": {},
   "outputs": [],
   "source": [
    "button.click()"
   ]
  },
  {
   "cell_type": "markdown",
   "id": "84280bf6",
   "metadata": {},
   "source": [
    "# Setting Password(Last step)"
   ]
  },
  {
   "cell_type": "code",
   "execution_count": 15,
   "id": "c31c8b19",
   "metadata": {},
   "outputs": [],
   "source": [
    "driver.find_element(By.XPATH, \"//input[@name='reg_passwd__']\").send_keys(\"Pakistan Zindabad\")"
   ]
  },
  {
   "cell_type": "code",
   "execution_count": 16,
   "id": "bf037812",
   "metadata": {},
   "outputs": [],
   "source": [
    "driver.find_element(By.XPATH, \"(//button[@value='Sign Up'])[1]\").click()"
   ]
  },
  {
   "cell_type": "code",
   "execution_count": 19,
   "id": "cd8a901a",
   "metadata": {},
   "outputs": [],
   "source": [
    "driver.find_element(By.XPATH, \"//*[@value='OK']\").click()"
   ]
  },
  {
   "cell_type": "code",
   "execution_count": 25,
   "id": "f6c010c7",
   "metadata": {},
   "outputs": [],
   "source": [
    "driver.find_element(By.XPATH, \"//*[@type='number']\").send_keys(\"71882\")"
   ]
  },
  {
   "cell_type": "code",
   "execution_count": 41,
   "id": "6fee468b",
   "metadata": {},
   "outputs": [],
   "source": [
    "driver.find_element(By.XPATH, \"//a[@href='#']\").click()"
   ]
  },
  {
   "cell_type": "code",
   "execution_count": 43,
   "id": "c8de339b",
   "metadata": {},
   "outputs": [],
   "source": [
    "driver.find_element(By.XPATH, \"//a[@role='button']\").click()"
   ]
  },
  {
   "cell_type": "code",
   "execution_count": 44,
   "id": "ac237772",
   "metadata": {},
   "outputs": [],
   "source": [
    "driver.find_element(By.XPATH, \"//a[@id='nux-nav-button']\").click()"
   ]
  },
  {
   "cell_type": "code",
   "execution_count": null,
   "id": "a55d9d4c",
   "metadata": {},
   "outputs": [],
   "source": []
  }
 ],
 "metadata": {
  "kernelspec": {
   "display_name": "Python 3 (ipykernel)",
   "language": "python",
   "name": "python3"
  },
  "language_info": {
   "codemirror_mode": {
    "name": "ipython",
    "version": 3
   },
   "file_extension": ".py",
   "mimetype": "text/x-python",
   "name": "python",
   "nbconvert_exporter": "python",
   "pygments_lexer": "ipython3",
   "version": "3.9.12"
  }
 },
 "nbformat": 4,
 "nbformat_minor": 5
}
